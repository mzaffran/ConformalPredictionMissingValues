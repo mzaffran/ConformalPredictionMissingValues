{
 "cells": [
  {
   "cell_type": "code",
   "execution_count": null,
   "metadata": {},
   "outputs": [],
   "source": [
    "import generation as gen\n",
    "import imputation as imp\n",
    "import prediction\n",
    "import utils\n",
    "import files\n",
    "import os\n",
    "import numpy as np\n",
    "from tqdm.autonotebook import tqdm"
   ]
  },
  {
   "cell_type": "code",
   "execution_count": null,
   "metadata": {},
   "outputs": [],
   "source": [
    "alpha = 0.1\n",
    "d = 10\n",
    "phi = 0.8\n",
    "regression = 'Linear'\n",
    "n_rep = 100\n",
    "beta = np.array([1, 2, -1, 3, -0.5, -1, 0.3, 1.7, 0.4, -0.3])\n",
    "\n",
    "train_size = 500\n",
    "cal_size = 250\n",
    "params_test = {'iid':{'test_size': 2000}, \n",
    "               'fixed_nb_sample_pattern':{'nb_sample_pattern': 100}, \n",
    "               'fixed_nb_sample_pattern_size':{'nb_sample_pattern': 100}}\n",
    "params_test = gen.process_test(params_test, d=d)\n",
    "\n",
    "params_reg = {'regression':regression, 'beta': beta, 'phi': phi}\n",
    "\n",
    "params_noise = {'noise':'Gaussian'}\n",
    "\n",
    "prob_missing = 0.2\n",
    "var_missing = np.full(d, 1)\n",
    "params_missing = {'prob_missing':prob_missing, 'var_missing':var_missing, 'mechanism': 'MCAR'}\n",
    "\n",
    "imputations = np.array(['iterative_ridge'])\n",
    "\n",
    "methods = ['QR', 'QR_TrainCal', 'CQR', 'CQR_MDA']\n",
    "basemodels = ['NNet']\n",
    "masks = ['Yes']\n",
    "protections = ['No']#, 'Pattern', 'Pattern_size']\n",
    "exacts = [False, True]\n",
    "\n",
    "cores = 1\n",
    "\n",
    "params_basemodel = {'cores':cores}"
   ]
  },
  {
   "cell_type": "code",
   "execution_count": null,
   "metadata": {},
   "outputs": [],
   "source": [
    "name = files.get_name_data(train_size, cal_size, params_test, dim=d,\n",
    "                           params_reg=params_reg, params_noise=params_noise,\n",
    "                           params_missing=params_missing, seed=n_rep)\n",
    "\n",
    "if os.path.isfile('data/'+name+'.xz'):\n",
    "    print('data found')\n",
    "    data = files.load_file('data', name, 'xz')\n",
    "else:\n",
    "    print('data not found')\n",
    "    X, X_missing, M, Y, params_missing = gen.generate_multiple_data(train_size, cal_size, params_test, n_rep=n_rep, dim=d, \n",
    "                                                    params_reg=params_reg, params_noise=params_noise,\n",
    "                                                    params_missing=params_missing)\n",
    "    data = {'X': X, 'X_missing': X_missing, 'M': M,'Y': Y}\n",
    "    files.write_file('data', name, 'xz', data)"
   ]
  },
  {
   "cell_type": "code",
   "execution_count": null,
   "metadata": {},
   "outputs": [],
   "source": [
    "for imputation in tqdm(imputations):\n",
    "\n",
    "    name_imputed = files.get_name_data_imputed(train_size, cal_size, params_test, imputation,\n",
    "                                               dim=d, \n",
    "                                               params_reg=params_reg, params_noise=params_noise,\n",
    "                                               params_missing=params_missing, seed=n_rep)\n",
    "\n",
    "    if os.path.isfile('data/'+name_imputed+'.xz'):\n",
    "        print('imputation found')\n",
    "        X_imp = files.load_file('data', name_imputed, 'xz')\n",
    "    else:\n",
    "        print('imputation not found')\n",
    "        if imputation == 'complete':\n",
    "            X_imp = data['X']\n",
    "        else:\n",
    "            X_imp = imp.impute(data, imputation)\n",
    "        files.write_file('data', name_imputed, 'xz', X_imp)\n",
    "    data_imputed = {'X': data['X'], 'X_missing': data['X_missing'], 'X_imp': X_imp, 'M': data['M'],'Y': data['Y']}\n",
    "\n",
    "\n",
    "\n",
    "    results, methods_ran = prediction.run_experiments(data_imputed, alpha=alpha, methods=methods,\n",
    "                                                      basemodels=basemodels, params_basemodel=params_basemodel,\n",
    "                                                      masks=masks, protections=protections, \n",
    "                                                      exacts=exacts, imputation=imputation,\n",
    "                                                      params_reg=params_reg)#, params_noise=params_noise)\n",
    "\n",
    "    for method in methods_ran:\n",
    "        name_dir, name_method = files.get_name_results(method, train_size, cal_size, n_rep, d=d, imputation=imputation,\n",
    "                                                       params_reg=params_reg, params_noise=params_noise, params_missing=params_missing)\n",
    "        results_method = results[method]\n",
    "        files.write_file('results/'+name_dir, name_method, 'xz', results_method)"
   ]
  },
  {
   "cell_type": "code",
   "execution_count": null,
   "metadata": {},
   "outputs": [],
   "source": []
  }
 ],
 "metadata": {
  "kernelspec": {
   "display_name": "Python 3",
   "language": "python",
   "name": "python3"
  },
  "language_info": {
   "codemirror_mode": {
    "name": "ipython",
    "version": 3
   },
   "file_extension": ".py",
   "mimetype": "text/x-python",
   "name": "python",
   "nbconvert_exporter": "python",
   "pygments_lexer": "ipython3",
   "version": "3.8.5"
  }
 },
 "nbformat": 4,
 "nbformat_minor": 4
}
